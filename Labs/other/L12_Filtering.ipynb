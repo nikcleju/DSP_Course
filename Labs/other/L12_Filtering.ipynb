{
  "cells": [
    {
      "cell_type": "markdown",
      "metadata": {},
      "source": [
        "# DSP Lab 12: Filtering of an ECG signal\n",
        "\n",
        "# Objective\n",
        "\n",
        "Students should be able to design a basic filters and perform signal filtering operations in Matlab\n",
        "\n",
        "# Theoretical notions\n",
        "\n",
        "# Matlab functions\n",
        "\n",
        "## Filter design\n",
        "\n",
        "Use `fdatool` in Matlab for a filter design GUI tool. Use `fir1()`, `fir2()` or `firpm()` to design a FIR filter programmatically. \n",
        "\n",
        "You can also use online tools like TFilter ([http://t-filter.engineerjs.com/](http://t-filter.engineerjs.com/)).\n",
        "\n",
        "## Filtering \n",
        "\n",
        "Use `filter()` to apply a filter to an input signal:\n"
      ],
      "id": "573523f8"
    },
    {
      "cell_type": "code",
      "metadata": {},
      "source": [
        "y = filter(b,a,x)"
      ],
      "id": "172509c2",
      "execution_count": null,
      "outputs": []
    },
    {
      "cell_type": "markdown",
      "metadata": {},
      "source": [
        "- b = the numerator coefficients of H(z)\n",
        "- a = the denominator coefficients of H(z)\n",
        "- x = the input signal\n",
        "- y = the output filter\n",
        "\n",
        "For an FIR filter, `a = 1` and `b =` the impulse response `h`.\n",
        "\n",
        "## Zero-phase filtering\n",
        "\n",
        "The function `filtfilt()` achieves zero-phase filtering of a vector `x` by filtering it twice:\n",
        "  \n",
        "  - once in the normal direction (start to end)\n",
        "  - then flip the result and filter again (i.e. in the opposite direction)\n",
        "  \n",
        "In this way:\n",
        "  \n",
        "  - the amplitude response is applied twice (i.e. the signal is multiplied with $|H(\\omega)|^2$ instead of $|H(\\omega)|^2$)\n",
        "  - the phase is canceled (zero-phase filter)\n",
        "\n",
        "## Filtering an image\n",
        "\n",
        "We can obtain a 2D filtering of an image by filtering the rows and then the columns (the order doesn;t matter), i.e. with successive 1D filtering of the rows and columns.\n",
        "\n",
        "We can use `filter()` on images. We pass an image (matrix) as the input signal and we specify the dimension along we filter in a fourth argument `dim`.\n",
        "Then the rows (if `dim=2`) or columns (if `dim=1`) are filtered independently, as if they were 1D signals.\n"
      ],
      "id": "83a9c518"
    },
    {
      "cell_type": "code",
      "metadata": {},
      "source": [
        "I2 = filter(b, a, I, 1);   # Filter the columns of image I, independently\n",
        "I3 = filter(b, a, I2, 2);  # Then take the result and filter its rows, independently"
      ],
      "id": "128d73f8",
      "execution_count": null,
      "outputs": []
    },
    {
      "cell_type": "markdown",
      "metadata": {},
      "source": [
        "On the contrary, `filtfilt()` on images only filters across the first dimension (it doesn't have an argument `dim`. In this case we must transpose the image ourselves.\n"
      ],
      "id": "d830eb28"
    },
    {
      "cell_type": "code",
      "metadata": {},
      "source": [
        "I2 = filtfilt(b, a, I)     # Filter the columns of image I, independently\n",
        "I2 = filtfilt(b, a, I2')   # Then take the result, transpose, filter again\n",
        "I2 = I2';                  # Then transpose again to get back original shape"
      ],
      "id": "957efd58",
      "execution_count": null,
      "outputs": []
    },
    {
      "cell_type": "markdown",
      "metadata": {},
      "source": [
        "# Exercises\n",
        "\n",
        "1. Load the signal from `ECGsignal.mat` and display it.\n",
        "\n",
        "2. Design several linear-phase FIR band-pass filters, of order at least 20, and filter the ECG signal with them using `filter()`.\n",
        "\n",
        "    Display the original signal and the four filtered versions as 5 subplots of a window.\n",
        "\n",
        "    According to the recommendations in [https://www.hindawi.com/journals/isrn/2012/706217/](https://www.hindawi.com/journals/isrn/2012/706217/), the filters should have the folllwing pass bands:\n",
        "      \n",
        "      - 0.05 Hz - 40 Hz\n",
        "      - 0.05 Hz - 100 Hz\n",
        "      - 0.5 Hz - 40 Hz\n",
        "      - 0.5 Hz - 100 Hz\n",
        "\n",
        "    The sampling frequency of the ECG signal is 360 Hz.\n",
        "\n",
        "\n",
        "3. What is the delay introduced by the filters?\n",
        "\n",
        "    Replace `filter()` with `filtfilt()` and regenerate the plot. What is the delay now?\n",
        "   \n",
        "4. Load the `Lena` image and display it.\n",
        "\n",
        "    Filter the image with one of the filters designed, using `filter`(), and display it.\n",
        "\n",
        "    Then filter the image using `filtfilt()` and display.\n",
        "   \n",
        "# Final questions\n",
        "\n",
        "TBD\n"
      ],
      "id": "cfd3902e"
    }
  ],
  "metadata": {
    "kernelspec": {
      "name": "python3",
      "language": "python",
      "display_name": "Python 3 (ipykernel)"
    }
  },
  "nbformat": 4,
  "nbformat_minor": 5
}