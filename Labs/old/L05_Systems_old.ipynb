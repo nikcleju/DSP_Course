{
 "cells": [
  {
   "cell_type": "markdown",
   "metadata": {},
   "source": [
    "# DSP Lab 05: Discrete systems as functions\n",
    "\n",
    "\n",
    "## 1. Objective\n",
    "\n",
    "Students should check basic properties of digital systems for\n",
    "easy systems implemented in Matlab\n",
    "\n",
    "## 2. Theoretical aspects\n",
    "\n",
    "### 2.1 Functions in Matlab\n",
    "\n",
    "Each function in Matlab is created in its own file, according to the following template:"
   ]
  },
  {
   "cell_type": "code",
   "execution_count": null,
   "metadata": {},
   "outputs": [],
   "source": [
    "function y = function_name(x, a, b)\n",
    "% func_name is the name if the function. It must be saved in a file func_name.m\n",
    "% x, a, b = the input arguments of the function\n",
    "% y = the output value of the function. \n",
    "% If the function returns multiple outputs, write them like: [y1, y2, y3] = function_name(x, a, b)\n",
    "\n",
    "end"
   ]
  },
  {
   "cell_type": "markdown",
   "metadata": {},
   "source": [
    "A discrete system can be implemented as a function which takes as input one vector ($x$) and produces as output another vector ($y$).\n",
    "The output vector is computed according to the system equation, inside the function.\n",
    "\n",
    "Example: what is the following function doing?"
   ]
  },
  {
   "cell_type": "code",
   "execution_count": null,
   "metadata": {},
   "outputs": [],
   "source": [
    "function y = mistery_function(x)\n",
    "\n",
    "N = length(x);\n",
    "\n",
    "y(1) = x(1);\n",
    "y(2) = x(2) - 2*x(0);\n",
    "for i=3:N\n",
    "    y(i) = x(i) - 2*x(i-1) + 0.5*x(i-2);\n",
    "end"
   ]
  },
  {
   "cell_type": "markdown",
   "metadata": {},
   "source": [
    "**Question**: why do we need to treat $y(1)$ and $y(2)$ separately, before the `for` loop?"
   ]
  },
  {
   "cell_type": "markdown",
   "metadata": {},
   "source": [
    "### 2.2 Functions as arguments to another function\n",
    "\n",
    "A function can have an input argument another function.\n",
    "\n",
    "Let's define first a simple function which squares a number:"
   ]
  },
  {
   "cell_type": "code",
   "execution_count": null,
   "metadata": {},
   "outputs": [],
   "source": [
    "function y = my_square(x)\n",
    "\n",
    "y = x^2;\n",
    "\n",
    "end"
   ]
  },
  {
   "cell_type": "markdown",
   "metadata": {},
   "source": [
    "Let's define now another function, which takes another function as input :"
   ]
  },
  {
   "cell_type": "markdown",
   "metadata": {},
   "source": [
    "function y = foo(a, b, somefunc)\n",
    "\n",
    "y = a + somefunc(b);\n",
    "\n",
    "end"
   ]
  },
  {
   "cell_type": "markdown",
   "metadata": {},
   "source": [
    "The 3rd argument of the function `foo()` **is a function handle**. Its another function, which is received here under the name `somefunc`, and can be as a function inside our `foo()` function, i.e. by calling `somefunc(b)`.\n",
    "\n",
    "We don't know yet what `somefunc()` does. This depends on what function is passed as 3rd argument to `foo()` when calling it.\n",
    "\n",
    "We can pass `my_square()` as the argument to `foo()` as follows:"
   ]
  },
  {
   "cell_type": "code",
   "execution_count": null,
   "metadata": {},
   "outputs": [],
   "source": [
    "y = foo(4, 6, @my_square);"
   ]
  },
  {
   "cell_type": "markdown",
   "metadata": {},
   "source": [
    "Inside `foo()`, `my_square` becomes `somefunc`, and the result is computed as $y = 4 + 6^2$.\n",
    "\n",
    "Note **the special sign @** before the name of the function. It represents **the handle (address)** of the function `my_square()`. \n",
    "It means we're not calling `my_square()`, we just want its location.\n",
    "\n",
    "**Question**: what is the result of the call `foo(4, 6, @sqrt)`?"
   ]
  },
  {
   "cell_type": "markdown",
   "metadata": {},
   "source": [
    "### 2.3 Properties of discerte systems\n",
    "\n",
    "Two fundamental properties of discrete systems are **linearity** and **time-invariance**. You can find more about them in the lectures.\n",
    "\n",
    "A system is **linear** if it satisfies the following relation:\n",
    "$$H\\{a \\cdot x_1[n] + b \\cdot x_2[n]\\} = a \\cdot H\\{x_1[n]\\} + b \\cdot H\\{x_2[n]\\}$$\n",
    "\n",
    "A system is **time-invariant** if it satisfies the following relation:\n",
    "$$H\\{x[n-k]\\} = y[n-k],  \\textrm{ where } y[n] = H\\{x[n]\\}$$"
   ]
  },
  {
   "cell_type": "markdown",
   "metadata": {},
   "source": [
    "## 3. Exercises\n",
    "\n",
    "1. Create a function `mysys1()` that implements the following system $H_1$:\n",
    "\n",
    "    $$y[n] = H_1\\{x[n]\\} = \\frac{1}{4} x[n] - \\frac{1}{2} x[n-1] + \\frac{1}{4} x[n-2]$$\n",
    "    \n",
    "    - The function takes one input argument `x` and outputs one vector `y`\n",
    "    \n",
    "    - Test the function by running it in on the following input signal $x$: 20 zeros, followed by 20 ones, repeated 5 times\n",
    "  \n",
    "    - Plot the original signal $x$ and the output signal $y$ on the same graph.\n",
    "\n",
    "\n",
    "2. Check the linearity of the system in `mysys1()`, by checking if the linearity equation holds, in the following way:\n",
    "\n",
    "    - generate two random vectors `x1` and `x2` of some length (e.g. 500) and two random numbers `a` and `b`\n",
    "    \n",
    "    - apply the system (e.g. the function `mysys1`) to `a*x1`, `b*x2`, and `a*x1 + b*x2`, and check if the results verify the linearity equation: the sum of the first two results must be equal to the third\n",
    "\n",
    "\n",
    "3. Create a function to test the linearity of a system, `test_linear()`, in the manner described above.\n",
    "    \n",
    "    - the function shall take one input argument, a function handle of the system function, e.g. the function will be called as `test_linear(@mysys1)`\n",
    "    \n",
    "    - inside, the function shall do exactly the same procedure as above: generate two random vectors and two constants, apply the system to `a*x1`, `b*x2`, and `a*x1 + b*x2`, and shall check if the results verify the linearity equation\n",
    "    \n",
    "    - the check shall be repeated for 5 times, with 5 different randomly generated data\n",
    "    \n",
    "    - if the linearity equation holds every time, the function shall return 1; otherwise the return value shall be 0\n",
    "    \n",
    "    Run the function for the `mysys1()` function in Exercise 1, and check whether it is linear or not.\n",
    "\n",
    "4. Create functions for the following systems as well, and check if they are linear:\n",
    "\n",
    "    $$y[n] = H_1\\{x[n]\\} = n \\cdot x[n] + 5$$\n",
    "    \n",
    "    $$y[n] = x[n] + 0.5 x[n-1] + 1$$\n",
    "    \n",
    "    $$y[n] = (x[n])^2 + 4$$\n",
    "\n",
    "4. Implement a similar function to **check the time invariance** of a system, following the same approach. We can check time invariance in the following way:\n",
    "   \n",
    "    - Apply the system to some random vector `x`. Let's call the result `y`.\n",
    "    \n",
    "    - Apply the system to `x` prepended with K values zeros (i.e. delayed by $K$ samples). $K$ can be anything between 1 and whatever. Let's call the result `y2`.\n",
    "    \n",
    "    - If the system is time invariant, the vector `y` should be identical to the vector `y2` starting after position $K$ (from (K+1) onwards).\n",
    "\n",
    "## 4. Final questions\n",
    "\n",
    "TBD"
   ]
  }
 ],
 "metadata": {
  "kernelspec": {
   "display_name": "Matlab",
   "language": "matlab",
   "name": "matlab"
  },
  "language_info": {
   "codemirror_mode": "octave",
   "file_extension": ".m",
   "help_links": [
    {
     "text": "MetaKernel Magics",
     "url": "https://metakernel.readthedocs.io/en/latest/source/README.html"
    }
   ],
   "mimetype": "text/x-octave",
   "name": "matlab",
   "version": "0.16.9"
  }
 },
 "nbformat": 4,
 "nbformat_minor": 4
}
