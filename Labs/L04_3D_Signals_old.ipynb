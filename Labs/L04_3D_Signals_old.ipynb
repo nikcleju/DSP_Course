{
 "cells": [
  {
   "cell_type": "markdown",
   "metadata": {},
   "source": [
    "# DSP Lab 04: Processing of 3D Signals (Video Sequences)\n",
    "\n",
    "\n",
    "## 1. Objective\n",
    "\n",
    "Students should understand and be able to operate with video data in Matlab.\n",
    "\n",
    "## 2. Theoretical aspects\n",
    "\n",
    "### 2. 1 Representation of video sequences \n",
    "\n",
    "A video sequence is just a sequence of images displayed with speed high enough to \"fool the eye\" into thinking it sees a continuous movement.\n",
    "As a consequence, a video sequence can be represented as an array of images. The images are known as \"frames\".\n",
    "\n",
    "**Note**: there is a difference between how a video sequence is stored to disk (with compression) and the raw uncompressed data. Here we talk about the uncompressed video data.\n",
    "\n",
    "#### Grayscale video\n",
    "\n",
    "For simplicity, we consider only grayscale video in this laboratory. Since a grayscale image is a matrix, a grayscale video can be represented as a 4D tensor with dimensions (H, W, 1, NoF), where:\n",
    "\n",
    "- H = height of video (number of rows)\n",
    "- W = width of image (number of columns)\n",
    "- NoF = number of frames (number of distinct images in the video).\n",
    "\n",
    "For example, V(20, 50, 1, 7) is the pixel value for the pixel at row 20, column 50, in the 7th frame.\n",
    "\n",
    "#### Color video\n",
    "\n",
    "In case of a color video, the data structure is a tensor with dimensions (H, W, 3, NoF). We have three components for the RGB values. \n",
    "\n",
    "For example, V(20, 50, 2, 7) is the Green value (2) of the pixel at row 20, column 50, in the 7th frame of the video.\n",
    "\n",
    "### 2.2 Matlab functions for video handling\n",
    "\n",
    "There are multiple ways of handling video data in Matlab, depending on how it is represented. In the following, the recommended way is to work with 4D tensors.\n",
    "\n",
    "In the following we provide code templates for working with video data.\n",
    "\n",
    "#### 2.2.1 Creating and playing videos as 4D tensor\n",
    "\n",
    "A video is a 4_ tensor of shape (H, W, 1, NoF) (grayscale) or (H, W, 3, NoF) (color).\n",
    "\n",
    "We play the video with `implay()`.\n",
    "\n",
    "Code template below:"
   ]
  },
  {
   "cell_type": "code",
   "execution_count": null,
   "metadata": {},
   "outputs": [],
   "source": [
    "height = ...; % desired height\n",
    "width  = ...; % desired width\n",
    "NoF    = ...; % desired number of frames\n",
    "% an array of size height x width x 1 x NoF:\n",
    "video  = zeros(height, width, 1, NoF);   \n",
    "for i = 1:NoF\n",
    "    video(:,:,:,i) = ... the frame number i ... ;\n",
    "end\n",
    "\n",
    "% Play the sequence\n",
    "implay(video);\n",
    "\n",
    "% Fix: ensure we don't have any value larger than 1, it crashes Matlab\n",
    "video(video > 1) = 1;\n",
    "\n",
    "% Save file to disk\n",
    "aviObj = VideoWriter('OutputVideo.avi', 'Uncompressed AVI');\n",
    "aviObj.open();\n",
    "aviObj.writeVideo(video);\n",
    "aviobj.close();"
   ]
  },
  {
   "cell_type": "markdown",
   "metadata": {},
   "source": [
    "#### 2.2.2 \\[Alternative\\] Creating and playing videos using Video objects\n",
    "In this approach, we work with specially crafted Matlab objects for handling video."
   ]
  },
  {
   "cell_type": "code",
   "execution_count": null,
   "metadata": {},
   "outputs": [],
   "source": [
    "% Prepare data structure for a new video file in grayscale\n",
    "height = ...; % desired height\n",
    "width  = ...; % desired width\n",
    "NoF    = ...; % desired number of frames\n",
    "video = struct('cdata', zeros(height,width,1,'uint8'), ...\n",
    "   'colormap',colormap(gray(256)));\n",
    "\n",
    "% Put each frame in the video data structure\n",
    "for i = 1:NoF   % how many frames we want\n",
    "    video(i).cdata = ... put here the i-th image ...;\n",
    "end\n",
    "\n",
    "% Play the sequence\n",
    "implay(video);\n",
    "\n",
    "% Save the video to disk\n",
    "aviObj = VideoWriter('OutputVideo.avi', 'Uncompressed AVI');\n",
    "open(aviObj);\n",
    "for i = 1:numel(video)\n",
    "   % Fix: ensure we don;t have any value larger than 1, it crashes Matlab\n",
    "   video(i).cdata (video(i).cdata > 1) = 1;\n",
    "\n",
    "   % Save to disk\n",
    "   writeVideo(aviObj,ofmov(i).cdata);\n",
    "end\n",
    "close(aviObj);"
   ]
  },
  {
   "cell_type": "markdown",
   "metadata": {},
   "source": [
    "### 2.2.3 Loading and processing frames from an existing video file\n"
   ]
  },
  {
   "cell_type": "code",
   "execution_count": null,
   "metadata": {},
   "outputs": [],
   "source": [
    "v = VideoReader(['FisierVideo.avi']);\n",
    "height = v.Height;           % get height of the video frames\n",
    "width  = v.Width;            % get width of the video frames\n",
    "NoF    = v.NumberOfFrames;   % get total number of frames in the video\n",
    "\n",
    "% Process every frame in the video\n",
    "for i = 1:NoF\n",
    "    frame = v.read(i);              % read frame number i\n",
    "    ... do stuff ...\n",
    "end"
   ]
  },
  {
   "cell_type": "markdown",
   "metadata": {},
   "source": [
    "## 3. Exercises\n",
    "\n",
    "1. Load the `Lena` image, convert it to a grayscale image, convert it to `double` type, adapt the values to the $[0,1]$ range, and display it.\n",
    "\n",
    "2. Create a video sequence by scrolling the Lena image circularly to the right, by $3$ pixels at every frame. Display the video at 25fps and save it to disk.\n",
    "\n",
    "3. Create another video sequence by progressively changing the average luminosity of the image from 0 to 1. The video sequence should last exactly 4 seconds at a frame rate of 25fps.\n",
    "\n",
    "4. Load the video file `veh.mp4`. Convert each frame to grayscale, `double` type, and range $[0,1]$. Display the video sequence.\n",
    "\n",
    "5. **Background/foregound extraction**.    \n",
    "    Make a new video sequence as follows:\n",
    "\n",
    "    output_frame = (1 - $\\alpha$) * previous_output_frame + $\\alpha$ * current_input_frame\n",
    "    \n",
    "    Set $\\alpha = 0.99$. \n",
    "    \n",
    "    a. Display the video sequence. What happened? What kind of filter is this?   (Hint: rewrite the equation in the usual way (with $x[n]$ and $y[n]$)) \n",
    "    \n",
    "    b. Create another video sequence as the difference between the original sequence and the sequence from a). \n",
    "      - Display the video sequence. What happens? \n",
    "      - Deduce the equation of this system. What kind of filter is this?\n",
    "\n",
    "## 4. Final questions\n",
    "\n",
    "TBD"
   ]
  }
 ],
 "metadata": {
  "kernelspec": {
   "display_name": "Matlab",
   "language": "matlab",
   "name": "matlab"
  },
  "language_info": {
   "codemirror_mode": "octave",
   "file_extension": ".m",
   "help_links": [
    {
     "text": "MetaKernel Magics",
     "url": "https://metakernel.readthedocs.io/en/latest/source/README.html"
    }
   ],
   "mimetype": "text/x-octave",
   "name": "matlab",
   "version": "0.16.9"
  }
 },
 "nbformat": 4,
 "nbformat_minor": 4
}
