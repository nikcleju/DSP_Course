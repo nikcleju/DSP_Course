{
 "cells": [
  {
   "cell_type": "markdown",
   "metadata": {},
   "source": [
    "# DSP Lab 06: Implementing digital systems in Simulink\n",
    "\n",
    "\n",
    "## 1. Objective\n",
    "\n",
    "Students should implement basic digital systems in the Simulink environment\n",
    "\n",
    "## 2. Theoretical aspects\n",
    "\n",
    "\n",
    "1. Introduction to Simulink\n",
    "    - what it is\n",
    "    - how to create models\n",
    "    - settings needed for discrete models and simulation. Open menu Simulation -> Model Configuration\n",
    "    Parameters and set the options as shown below.\n",
    "![Model settings for discrete models](img/L4_Settings_Model.png)\n",
    "    \n",
    "\n",
    "2. Basic Simulink blocks for digital signal processing\n",
    "    - mathematical operations: sum, product, gain\n",
    "    - unit delays\n",
    "    - input data: unit step, ramp etc\n",
    "    - multimedia data: FromMultimediaFile, ToAudioSink\n",
    "    - visualization: Scope\n",
    "    - miscellaneous: Manual Switch, Switch\n",
    "    - saving data to/from Matlab environment: ToWorkspace, FromWorkspace\n",
    "    \n",
    "    \n",
    "3. Special settings needed for the *From Multimedia Device* block\n",
    "    - See below in the two figures\n",
    "    \n",
    "![Settings for the *From Multimedia Device* block - part 1](img/L4_Settings_FromMMDevice_1.png){width=50%}\n",
    "![Settings for the *From Multimedia Device* block - part 2](img/L4_Settings_FromMMDevice_2.png){width=50%}"
   ]
  },
  {
   "cell_type": "markdown",
   "metadata": {},
   "source": [
    "## 3. Exercises\n",
    "\n",
    "1. Create a Simulink model to implement the following system $H_1$:\n",
    "\n",
    "   $$y[n] = H_1\\{x[n]\\} = \\frac{1}{4}(x[n]  + x[n-1] + x[n-2] + x[n-3])$$\n",
    "\n",
    "   - the system should be implemented as a Subsystem block with one input and one output signal\n",
    "\n",
    "\n",
    "\n",
    "2. Visualize the impulse response of the system\n",
    "\n",
    "    - add a unit impulse as the input (hint: can be created from two unit ramp blocks, delayed)\n",
    "    - add a Scope at the output to visualize the data\n",
    "    - also save the data to workspace (ToWorkspace block) and plot the impulse response from the command line\n",
    "\n",
    "3. Put at the input of the system a sine signal with frequency $f=0.3$ and amplitude $A=1$. Show both the input and the output signals in a Scope block.\n",
    "    \n",
    "    - What is the shape of the output signal (in permanent regime)?\n",
    "    - How long does the transient regime last (approximatively?)\n",
    "    - Measure the amplification and the delay (phase) introduced by the filter (e.g. the change in amplitude and phase of the output signal with respect to the input signal)\n",
    "\n",
    "4. Apply the system to the audio data (mp3 file) loaded with FromMultimediaFile and play the resulting output (ToAudioSink). How is the sound affected?\n",
    " \n",
    "    - make sure you set the properties of the *From Multimedia File* block as shown above\n",
    "\n",
    "\n",
    "## 4. Final questions\n",
    "\n",
    "\n",
    "1. TBD\n",
    "\n",
    "\n",
    "TBD"
   ]
  }
 ],
 "metadata": {
  "kernelspec": {
   "display_name": "Matlab",
   "language": "matlab",
   "name": "matlab"
  },
  "language_info": {
   "codemirror_mode": "octave",
   "file_extension": ".m",
   "help_links": [
    {
     "text": "MetaKernel Magics",
     "url": "https://metakernel.readthedocs.io/en/latest/source/README.html"
    }
   ],
   "mimetype": "text/x-octave",
   "name": "matlab",
   "version": "0.16.9"
  }
 },
 "nbformat": 4,
 "nbformat_minor": 4
}
